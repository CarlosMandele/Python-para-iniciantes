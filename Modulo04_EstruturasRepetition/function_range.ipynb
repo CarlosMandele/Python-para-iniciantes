{
 "cells": [
  {
   "cell_type": "markdown",
   "id": "e16c2323-7818-4903-8b20-8ae97294e6de",
   "metadata": {},
   "source": [
    "## Função range()\n",
    "\n",
    "Diferentes formatos para escrever a função range"
   ]
  },
  {
   "cell_type": "code",
   "execution_count": 3,
   "id": "ccc77791-92a6-486e-a364-6f8c4f952006",
   "metadata": {
    "tags": []
   },
   "outputs": [
    {
     "data": {
      "text/plain": [
       "range(0, 5)"
      ]
     },
     "execution_count": 3,
     "metadata": {},
     "output_type": "execute_result"
    }
   ],
   "source": [
    "# Exemplo range(x)\n",
    "range(5) # queremos gerar 5 números, por padrão começa do zero e termina no valor final -1"
   ]
  },
  {
   "cell_type": "code",
   "execution_count": 4,
   "id": "c1a7d25b-da9f-4b8a-8a7e-c50e402658da",
   "metadata": {
    "tags": []
   },
   "outputs": [
    {
     "data": {
      "text/plain": [
       "range(15, 20)"
      ]
     },
     "execution_count": 4,
     "metadata": {},
     "output_type": "execute_result"
    }
   ],
   "source": [
    "# Exemplo range(inicio, fim)\n",
    "range(15, 20) # "
   ]
  },
  {
   "cell_type": "code",
   "execution_count": 5,
   "id": "01c31756-b8e8-4d8e-9832-e8b01b153054",
   "metadata": {
    "tags": []
   },
   "outputs": [
    {
     "data": {
      "text/plain": [
       "range(1, 10, 2)"
      ]
     },
     "execution_count": 5,
     "metadata": {},
     "output_type": "execute_result"
    }
   ],
   "source": [
    "# Exemplo range(inicio, fim, passo)\n",
    "# estamos informando o inicio do intervalo, final e o passo do intervalo,\n",
    "# ou seja, de quanto em quanto será incrementado\n",
    "range(1, 10, 2)"
   ]
  },
  {
   "cell_type": "markdown",
   "id": "bae251b3-4ee2-4f1f-9534-fb1995cc49a1",
   "metadata": {},
   "source": [
    "## Programando um for"
   ]
  },
  {
   "cell_type": "code",
   "execution_count": null,
   "id": "5854561d-f07b-4997-a032-0fdd7fa93adc",
   "metadata": {},
   "outputs": [],
   "source": []
  }
 ],
 "metadata": {
  "kernelspec": {
   "display_name": "basyc",
   "language": "python",
   "name": "basyc"
  },
  "language_info": {
   "codemirror_mode": {
    "name": "ipython",
    "version": 3
   },
   "file_extension": ".py",
   "mimetype": "text/x-python",
   "name": "python",
   "nbconvert_exporter": "python",
   "pygments_lexer": "ipython3",
   "version": "3.9.13"
  },
  "widgets": {
   "application/vnd.jupyter.widget-state+json": {
    "state": {},
    "version_major": 2,
    "version_minor": 0
   }
  }
 },
 "nbformat": 4,
 "nbformat_minor": 5
}
