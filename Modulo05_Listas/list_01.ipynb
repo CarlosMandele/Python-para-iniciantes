{
 "cells": [
  {
   "cell_type": "markdown",
   "id": "0788b071-091e-45a2-b5bd-66c62a8d8391",
   "metadata": {},
   "source": [
    "# Criando uma lista vazia\n"
   ]
  },
  {
   "cell_type": "code",
   "execution_count": 1,
   "id": "94d939ad-ccb2-4242-b657-f7df1c03601e",
   "metadata": {
    "tags": []
   },
   "outputs": [],
   "source": [
    "notas = []"
   ]
  },
  {
   "cell_type": "markdown",
   "id": "53665964-0f1f-40f8-a759-dea255848c9f",
   "metadata": {},
   "source": [
    "## Adicioando elementos  uma lista\n",
    "\n",
    "\n",
    "* Index: 1°   2°   3°   4°"
   ]
  },
  {
   "cell_type": "code",
   "execution_count": 3,
   "id": "6bd885cb-c432-494b-a957-58f26fb5be0e",
   "metadata": {
    "tags": []
   },
   "outputs": [
    {
     "name": "stdout",
     "output_type": "stream",
     "text": [
      "7.1\n"
     ]
    }
   ],
   "source": [
    "# elementos: 1 2 3 4\n",
    "notas = [8.3, 7.1, 2.25, 4] \n",
    "# Acessand elementos de uma lista \n",
    "print(notas[1])\n"
   ]
  },
  {
   "cell_type": "code",
   "execution_count": 4,
   "id": "1f138cad-a273-4163-97cb-81d95569325a",
   "metadata": {
    "tags": []
   },
   "outputs": [
    {
     "name": "stdout",
     "output_type": "stream",
     "text": [
      "[8.3, 7.5, 2.25, 4]\n"
     ]
    }
   ],
   "source": [
    "# Modificando elementos de uma lista\n",
    "notas[1] = 7.5\n",
    "print(notas)"
   ]
  },
  {
   "cell_type": "code",
   "execution_count": 5,
   "id": "d6828546-52e9-4a5f-beea-8fd7ea242306",
   "metadata": {
    "tags": []
   },
   "outputs": [
    {
     "name": "stdout",
     "output_type": "stream",
     "text": [
      "8.3\n",
      "7.5\n",
      "2.25\n",
      "4\n"
     ]
    }
   ],
   "source": [
    "for bimest in range(4):\n",
    "    print(notas[bimest])"
   ]
  },
  {
   "cell_type": "markdown",
   "id": "ff6c457a-bf59-4740-b959-e1fbddedf8be",
   "metadata": {
    "tags": []
   },
   "source": [
    "### Exercicios"
   ]
  },
  {
   "cell_type": "markdown",
   "id": "5a077220-14ac-4d92-8dcb-fec171e38e4c",
   "metadata": {},
   "source": [
    "## Como incluir elementos em uma lista Python\n",
    "\n",
    "\n",
    "\n",
    "* Metodo append()\n",
    "\n",
    "\n",
    "* Metodo insert()"
   ]
  },
  {
   "cell_type": "code",
   "execution_count": 7,
   "id": "9609ccbf-4a1e-4a17-aef9-0bd0b51369f7",
   "metadata": {
    "tags": []
   },
   "outputs": [
    {
     "name": "stdout",
     "output_type": "stream",
     "text": [
      "Fátima Bernardes\n",
      "Paula de Oliveira\n",
      "Sheron Menezes\n"
     ]
    }
   ],
   "source": [
    "lindas = []\n",
    "lindas.append(\"Fátima Bernardes\") # index 0\n",
    "lindas.append(\"Paula de Oliveira\") # index 1\n",
    "lindas.append(\"Sheron Menezes\")    # index 2\n",
    "\n",
    "for elas in range(3):\n",
    "    print(lindas[elas])"
   ]
  },
  {
   "cell_type": "code",
   "execution_count": 11,
   "id": "19b087df-4ae8-4856-9fa9-a6e4c1b56a39",
   "metadata": {
    "tags": []
   },
   "outputs": [
    {
     "name": "stdout",
     "output_type": "stream",
     "text": [
      "['Fátima Bernardes', 'Iza', 'Iza', 'Iza', 'Paula de Oliveira', 'Sheron Menezes']\n"
     ]
    }
   ],
   "source": [
    "lindas.insert(1, \"Iza\")\n",
    "print(lindas)"
   ]
  },
  {
   "cell_type": "code",
   "execution_count": 16,
   "id": "83c824f6-98d8-4a8c-a7c5-74b9d660c89d",
   "metadata": {
    "tags": []
   },
   "outputs": [
    {
     "name": "stdin",
     "output_type": "stream",
     "text": [
      "Digite o nome de uma bela:  Julia\n",
      "Deseja continuar [S|N]?  sim\n",
      "Digite o nome de uma bela:  Celma\n",
      "Deseja continuar [S|N]?  sim\n",
      "Digite o nome de uma bela:  Iza\n",
      "Deseja continuar [S|N]?  n\n"
     ]
    },
    {
     "name": "stdout",
     "output_type": "stream",
     "text": [
      "Julia\n",
      "Celma\n",
      "Iza\n"
     ]
    }
   ],
   "source": [
    "belas = []\n",
    "while True:\n",
    "    nome = input(\"Digite o nome de uma bela: \")\n",
    "    belas.append(nome)\n",
    "    \n",
    "    resposta = input(\"Deseja continuar [S|N]? \")\n",
    "    if resposta.upper() == \"N\":\n",
    "        break\n",
    "for nome in belas:\n",
    "    print(nome)"
   ]
  },
  {
   "cell_type": "markdown",
   "id": "e51e0a0d-0df9-4724-929f-5aa61c4b3ff6",
   "metadata": {},
   "source": [
    "## Como ordenar e embaralhar(shuffle) de forma aleatorio(random) elementos de uma lista\n",
    "\n",
    "\n",
    "\n",
    "* Metodo sort()"
   ]
  },
  {
   "cell_type": "code",
   "execution_count": null,
   "id": "fbaae810-5995-4022-bc7f-8329b96e50e2",
   "metadata": {},
   "outputs": [],
   "source": []
  },
  {
   "cell_type": "markdown",
   "id": "e52df75f-944f-488b-a52d-83876e2eac00",
   "metadata": {},
   "source": [
    "## Como contar a quantidade de elementos de uma lista\n",
    "\n",
    "\n",
    "* Função len()\n",
    "\n",
    "* Função count()"
   ]
  },
  {
   "cell_type": "code",
   "execution_count": null,
   "id": "43e8e470-e352-46b5-8390-4237303f5483",
   "metadata": {},
   "outputs": [],
   "source": []
  },
  {
   "cell_type": "markdown",
   "id": "96ee8504-7f33-4947-a5c5-b69d0906aed3",
   "metadata": {},
   "source": [
    "## Como calcular a soma e media de uma lista"
   ]
  },
  {
   "cell_type": "code",
   "execution_count": 1,
   "id": "d03f8f17-c28b-441a-94bf-7adc535d4143",
   "metadata": {},
   "outputs": [
    {
     "name": "stdout",
     "output_type": "stream",
     "text": [
      "Menor idade: 17\n",
      "Maior idade: 23\n",
      "Soma das idades: 100\n",
      "A média das idades: 20.0\n"
     ]
    }
   ],
   "source": [
    "idade_alunos = []\n",
    "\n",
    "idade_alunos.append(17)\n",
    "idade_alunos.append(23)\n",
    "idade_alunos.append(19)\n",
    "idade_alunos.append(22)\n",
    "idade_alunos.append(19)\n",
    "# Exibindo o menor elemento ou número da lista\n",
    "print(\"Menor idade: {}\".format(min(idade_alunos)))\n",
    "# Exibindo o maior elemento ou número da lista\n",
    "print(\"Maior idade: {}\".format(max(idade_alunos)))\n",
    "# Soma dos elementos ou número da lista\n",
    "print(\"Soma das idades: {}\".format(sum(idade_alunos)))\n",
    "# Média do elementos da lista\n",
    "print(\"A média das idades: {}\".format(sum(idade_alunos) / len(idade_alunos)))"
   ]
  },
  {
   "cell_type": "markdown",
   "id": "25525d65-d6eb-40b8-a7bf-1693052fcaf7",
   "metadata": {},
   "source": [
    "## Removendo elementos de uma lista"
   ]
  },
  {
   "cell_type": "code",
   "execution_count": 5,
   "id": "661922a9-dfd2-4f35-a265-8cd4917e7171",
   "metadata": {
    "tags": []
   },
   "outputs": [
    {
     "name": "stdout",
     "output_type": "stream",
     "text": [
      "['Letícia', 'Henrique', 'Letícia', 'Heitor', 'Ana Carla', 'Nemo']\n"
     ]
    }
   ],
   "source": [
    "alunos = [\"Letícia\"]\n",
    "\n",
    "alunos.append(\"Henrique\")\n",
    "alunos.append(\"Letícia\")\n",
    "alunos.append(\"Heitor\")\n",
    "alunos.insert(4, \"Ana Carla\")\n",
    "alunos.insert(5, \"Nemo\")\n",
    "\n",
    "print(alunos)"
   ]
  },
  {
   "cell_type": "code",
   "execution_count": 6,
   "id": "f0461b36-b3d1-41e1-b53e-9a900a66ed9a",
   "metadata": {
    "tags": []
   },
   "outputs": [
    {
     "name": "stdout",
     "output_type": "stream",
     "text": [
      "['Letícia', 'Letícia', 'Heitor', 'Ana Carla', 'Nemo']\n"
     ]
    }
   ],
   "source": [
    "# Removendo elementos de uma lista\n",
    "alunos.pop(1)\n",
    "print(alunos)"
   ]
  },
  {
   "cell_type": "code",
   "execution_count": null,
   "id": "41d82725-da84-4ec5-a0cd-10cd4719e647",
   "metadata": {},
   "outputs": [],
   "source": [
    "# Esvazeando lista inteira\n",
    "## alunos.clear()\n",
    "\n",
    "# metodo remove() - remove os elementos de primeira ocorrência da lista\n",
    "\n",
    "# Remover um elemento especifico de toda a lista:\n",
    "for nome in alunos:\n",
    "    if nome == \"Letícia\":\n",
    "        alunos.remove(nome)\n",
    "        \n",
    "print(alunos)        "
   ]
  },
  {
   "cell_type": "markdown",
   "id": "c2decb2c-727c-4e31-8431-f62ba408b7b5",
   "metadata": {},
   "source": [
    "## Verificando se um elemento está na lista"
   ]
  },
  {
   "cell_type": "code",
   "execution_count": 7,
   "id": "51deecf3-d075-43f7-82d3-c16ada76e4c3",
   "metadata": {
    "tags": []
   },
   "outputs": [
    {
     "name": "stdout",
     "output_type": "stream",
     "text": [
      "Nemo está presente!!\n",
      "['Letícia', 'Letícia', 'Heitor', 'Ana Carla', 'Nemo']\n"
     ]
    }
   ],
   "source": [
    "if \"Nemo\" in alunos:\n",
    "    print(\"Nemo está presente!!\")\n",
    "print(alunos)    "
   ]
  },
  {
   "cell_type": "markdown",
   "id": "66f6cd9a-1492-4b92-9947-2e34bfd03f93",
   "metadata": {},
   "source": [
    "## Localizando o índice de um elemento na lista"
   ]
  },
  {
   "cell_type": "code",
   "execution_count": 9,
   "id": "5843bf76-4eaf-4189-bdd0-e47040f99c7d",
   "metadata": {
    "tags": []
   },
   "outputs": [
    {
     "name": "stdout",
     "output_type": "stream",
     "text": [
      "Melhor nadadora é Victória\n",
      "Pior nadadora é Karol\n"
     ]
    }
   ],
   "source": [
    "##for i in range(5):\n",
    "##    nome = input(\"nome: \")\n",
    "##    t = float(input(\"Tempo: \"))\n",
    "    \n",
    "##    nadadoras.append(nome)\n",
    "##    tempo.append(t)\n",
    "    \n",
    "nadadoras = [\"Luísa\", \"Alexandre\", \"Victória\", \"Karol\", \"Beatriz\"]\n",
    "tempo = [17.5    , 15     , 13     , 19    ,16]\n",
    "\n",
    "# Informando o nome da melhor nadadora e pior nadadora\n",
    "# Sintaxe: nome_lista.index(elemento_procurando)\n",
    "\n",
    "indice_melhor_tempo = tempo.index(min(tempo))\n",
    "indice_pior_tempo = tempo.index(max(tempo))\n",
    "\n",
    "print(\"Melhor nadadora é {}\".format(nadadoras[indice_melhor_tempo]))\n",
    "print(\"Pior nadadora é {}\".format(nadadoras[indice_pior_tempo]))"
   ]
  },
  {
   "cell_type": "markdown",
   "id": "163d0b8a-5c84-453d-9bd7-60961cf04457",
   "metadata": {},
   "source": [
    "## Índices e elementos de uma lista como enumerate()"
   ]
  },
  {
   "cell_type": "code",
   "execution_count": 11,
   "id": "157fe7cf-2438-40f0-adee-9575b0dac713",
   "metadata": {
    "tags": []
   },
   "outputs": [
    {
     "name": "stdin",
     "output_type": "stream",
     "text": [
      "Nome:  Lápis\n",
      "Deseja continuar [S|N]?  s\n",
      "Nome:  Borracha\n",
      "Deseja continuar [S|N]?  Régua\n",
      "Nome:  Caneta Azul\n",
      "Deseja continuar [S|N]?  n\n"
     ]
    },
    {
     "name": "stdout",
     "output_type": "stream",
     "text": [
      "0 --> Lápis\n",
      "1 --> Borracha\n",
      "2 --> Caneta Azul\n"
     ]
    }
   ],
   "source": [
    "produtos = []\n",
    "while True:\n",
    "    nome = input(\"Nome: \")\n",
    "    produtos.append(nome)\n",
    "    resp = input(\"Deseja continuar [S|N]? \")\n",
    "    if resp.upper() == \"N\":\n",
    "        break\n",
    "        \n",
    "# produtos = [\"Lápis\", \"Borracha\", \"Régua\", \"Apontador\"]\n",
    "for indice, valor in enumerate(produtos):\n",
    "    print(\"{} --> {}\".format(indice, valor))"
   ]
  },
  {
   "cell_type": "code",
   "execution_count": null,
   "id": "cbb96df2-f65f-41dd-872a-6a8720a591c7",
   "metadata": {},
   "outputs": [],
   "source": []
  }
 ],
 "metadata": {
  "kernelspec": {
   "display_name": "basyc",
   "language": "python",
   "name": "basyc"
  },
  "language_info": {
   "codemirror_mode": {
    "name": "ipython",
    "version": 3
   },
   "file_extension": ".py",
   "mimetype": "text/x-python",
   "name": "python",
   "nbconvert_exporter": "python",
   "pygments_lexer": "ipython3",
   "version": "3.9.13"
  },
  "widgets": {
   "application/vnd.jupyter.widget-state+json": {
    "state": {},
    "version_major": 2,
    "version_minor": 0
   }
  }
 },
 "nbformat": 4,
 "nbformat_minor": 5
}
